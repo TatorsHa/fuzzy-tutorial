{
 "cells": [
  {
   "cell_type": "markdown",
   "id": "fb827395-cef2-4a00-abf6-6f9e9bf48437",
   "metadata": {},
   "source": [
    "# Hello new cell\n",
    "\n",
    "Blubbiblab"
   ]
  },
  {
   "cell_type": "code",
   "execution_count": null,
   "id": "0d37f298-ca35-4961-a889-5e313d9da8f1",
   "metadata": {},
   "outputs": [],
   "source": [
    "import numpy as np\n",
    "import skfuzzy as fuzz\n",
    "from skfuzzy import control as ctrl\n",
    "\n",
    "# Create the universe variables\n",
    "# Book length ranges from 0 to 1000 pages\n",
    "# Rating ranges from 0 to 5 stars\n",
    "# Suggestion quality ranges from 0 to 100 percent\n",
    "book_length = ctrl.Antecedent(np.arange(0, 1001, 1), 'book_length')\n",
    "rating = ctrl.Antecedent(np.arange(0, 5.1, 0.1), 'rating')\n",
    "suggestion = ctrl.Consequent(np.arange(0, 101, 1), 'suggestion')\n",
    "\n",
    "# Define membership functions for book length\n",
    "book_length['short'] = fuzz.trimf(book_length.universe, [0, 0, 300])\n",
    "book_length['medium'] = fuzz.trimf(book_length.universe, [200, 400, 600])\n",
    "book_length['long'] = fuzz.trimf(book_length.universe, [500, 1000, 1000])\n",
    "\n",
    "# Define membership functions for rating\n",
    "rating['poor'] = fuzz.trimf(rating.universe, [0, 0, 2.5])\n",
    "rating['average'] = fuzz.trimf(rating.universe, [2, 3.5, 4])\n",
    "rating['excellent'] = fuzz.trimf(rating.universe, [3.5, 5, 5])\n",
    "\n",
    "# Define membership functions for suggestion quality\n",
    "suggestion['low'] = fuzz.trimf(suggestion.universe, [0, 0, 40])\n",
    "suggestion['medium'] = fuzz.trimf(suggestion.universe, [30, 50, 70])\n",
    "suggestion['high'] = fuzz.trimf(suggestion.universe, [60, 100, 100])\n",
    "\n",
    "# Visualize the membership functions\n",
    "book_length.view()\n",
    "rating.view()\n",
    "suggestion.view()"
   ]
  },
  {
   "cell_type": "code",
   "execution_count": null,
   "id": "e75a5274-d3fb-45bc-9821-c2c8c1cc2ac8",
   "metadata": {},
   "outputs": [],
   "source": []
  },
  {
   "cell_type": "code",
   "execution_count": null,
   "id": "cc9d131c-1aea-4ce0-a766-486b066f7351",
   "metadata": {},
   "outputs": [],
   "source": []
  }
 ],
 "metadata": {
  "kernelspec": {
   "display_name": "Python 3",
   "language": "python",
   "name": "python3"
  },
  "language_info": {
   "codemirror_mode": {
    "name": "ipython",
    "version": 3
   },
   "file_extension": ".py",
   "mimetype": "text/x-python",
   "name": "python",
   "nbconvert_exporter": "python",
   "pygments_lexer": "ipython3",
   "version": "3.11.4"
  }
 },
 "nbformat": 4,
 "nbformat_minor": 5
}
